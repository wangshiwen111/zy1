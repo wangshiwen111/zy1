{
 "cells": [
  {
   "cell_type": "code",
   "execution_count": null,
   "id": "61aa399a",
   "metadata": {},
   "outputs": [],
   "source": [
    "import pandas as pd\n",
    "import numpy as np\n",
    "import seaborn as sns\n",
    "import matplotlib.pyplot as plt\n",
    "from sklearn.model_selection import train_test_split\n",
    "from sklearn.ensemble import RandomForestRegressor\n",
    "from sklearn.metrics import mean_squared_error, r2_score\n",
    "from sklearn.preprocessing import StandardScaler, OneHotEncoder\n",
    "from sklearn.compose import ColumnTransformer\n",
    "from sklearn.pipeline import Pipeline\n",
    "import joblib\n",
    "\n",
    "# 加载数据\n",
    "df = pd.read_csv('US-pumpkins.csv')\n",
    "# 设置中文显示\n",
    "plt.rcParams['font.sans-serif'] = ['SimHei']\n",
    "plt.rcParams['axes.unicode_minus'] = False\n",
    "# 基础信息\n",
    "print(f\"数据集形状: {df.shape}\")\n",
    "print(f\"缺失值统计:\\n{df.isnull().sum().sort_values(ascending=False)}\")\n",
    "\n",
    "# 价格分布分析\n",
    "price_cols = ['Low Price', 'High Price', 'Mostly Low', 'Mostly High']\n",
    "df[price_cols].hist(bins=30, figsize=(12, 8))\n",
    "plt.suptitle('价格分布直方图')\n",
    "plt.show()\n",
    "\n",
    "# 关键特征分布\n",
    "fig, ax = plt.subplots(2, 2, figsize=(15, 10))\n",
    "sns.countplot(data=df, x='Variety', ax=ax[0][0], order=df['Variety'].value_counts().iloc[:5].index)\n",
    "ax[0][0].tick_params(axis='x', rotation=45)\n",
    "sns.countplot(data=df, x='Origin', ax=ax[0][1], order=df['Origin'].value_counts().iloc[:5].index)\n",
    "ax[0][1].tick_params(axis='x', rotation=45)\n",
    "sns.countplot(data=df, x='Item Size', ax=ax[1][0])\n",
    "ax[1][0].tick_params(axis='x', rotation=45)\n",
    "sns.scatterplot(data=df, x='Low Price', y='High Price', hue='Variety', alpha=0.6, ax=ax[1][1])\n",
    "plt.tight_layout()\n",
    "plt.show()\n",
    "\n",
    "# 日期转换和按月分析\n",
    "df['Date'] = pd.to_datetime(df['Date'])\n",
    "df['Month'] = df['Date'].dt.month\n",
    "plt.figure(figsize=(10, 6))\n",
    "sns.boxplot(data=df, x='Month', y='Low Price')\n",
    "plt.title('按月分析南瓜价格')\n",
    "plt.show()"
   ]
  }
 ],
 "metadata": {
  "kernelspec": {
   "display_name": "Python (senlin)",
   "language": "python",
   "name": "selin"
  },
  "language_info": {
   "codemirror_mode": {
    "name": "ipython",
    "version": 3
   },
   "file_extension": ".py",
   "mimetype": "text/x-python",
   "name": "python",
   "nbconvert_exporter": "python",
   "pygments_lexer": "ipython3",
   "version": "3.10.16"
  }
 },
 "nbformat": 4,
 "nbformat_minor": 5
}
